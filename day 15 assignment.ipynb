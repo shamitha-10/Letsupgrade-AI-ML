{
 "cells": [
  {
   "cell_type": "markdown",
   "metadata": {},
   "source": [
    "# 1. Create a 3x3x3 array with random values "
   ]
  },
  {
   "cell_type": "code",
   "execution_count": 2,
   "metadata": {},
   "outputs": [
    {
     "name": "stdout",
     "output_type": "stream",
     "text": [
      "[[[0.14598615 0.36176036 0.68414664]\n",
      "  [0.72169398 0.7867299  0.2482001 ]\n",
      "  [0.18207815 0.30806046 0.79662139]]\n",
      "\n",
      " [[0.31963298 0.30015504 0.33151396]\n",
      "  [0.98406557 0.93456549 0.60310632]\n",
      "  [0.73119927 0.22552772 0.94990766]]\n",
      "\n",
      " [[0.35079783 0.33860669 0.52978964]\n",
      "  [0.09328299 0.57725152 0.85243351]\n",
      "  [0.33326705 0.90686789 0.03833253]]]\n"
     ]
    }
   ],
   "source": [
    "import numpy as np\n",
    "a=np.random.random((3,3,3))\n",
    "print(a)"
   ]
  },
  {
   "cell_type": "markdown",
   "metadata": {},
   "source": [
    "# 2.Create a 5x5 matrix with values 1,2,3,4 just below the diagonal"
   ]
  },
  {
   "cell_type": "code",
   "execution_count": 8,
   "metadata": {},
   "outputs": [
    {
     "name": "stdout",
     "output_type": "stream",
     "text": [
      "[[0 0 0 0 0]\n",
      " [1 0 0 0 0]\n",
      " [0 2 0 0 0]\n",
      " [0 0 3 0 0]\n",
      " [0 0 0 4 0]]\n"
     ]
    }
   ],
   "source": [
    "x=np.diag(1+np.arange(4),k=-1)\n",
    "print(x)"
   ]
  },
  {
   "cell_type": "markdown",
   "metadata": {},
   "source": [
    "# 3.Create a 8x8 matrix and fill it with a checkerboard pattern"
   ]
  },
  {
   "cell_type": "code",
   "execution_count": 9,
   "metadata": {},
   "outputs": [
    {
     "name": "stdout",
     "output_type": "stream",
     "text": [
      "[[0 1 0 1 0 1 0 1]\n",
      " [1 0 1 0 1 0 1 0]\n",
      " [0 1 0 1 0 1 0 1]\n",
      " [1 0 1 0 1 0 1 0]\n",
      " [0 1 0 1 0 1 0 1]\n",
      " [1 0 1 0 1 0 1 0]\n",
      " [0 1 0 1 0 1 0 1]\n",
      " [1 0 1 0 1 0 1 0]]\n"
     ]
    }
   ],
   "source": [
    "x=np.ones((3,3))\n",
    "x=np.zeros((8,8),dtype=int)\n",
    "x[1::2,::2]=1\n",
    "x[::2,1::2]=1\n",
    "print(x)"
   ]
  },
  {
   "cell_type": "markdown",
   "metadata": {},
   "source": [
    "# 4. Normalize a 5x5 random matrix"
   ]
  },
  {
   "cell_type": "code",
   "execution_count": 10,
   "metadata": {},
   "outputs": [
    {
     "name": "stdout",
     "output_type": "stream",
     "text": [
      "Original Array: [[0.62339975 0.74103349 0.42722106 0.53777948 0.50067905]\n",
      " [0.8516805  0.35226907 0.04415862 0.02969746 0.60085122]\n",
      " [0.2757081  0.3571664  0.45745636 0.96044957 0.54739183]\n",
      " [0.5524056  0.11551614 0.5623884  0.0812001  0.45469211]\n",
      " [0.30705641 0.70755359 0.66418919 0.61136047 0.28581689]]\n",
      "After Normalization: [[0.6378737  0.76425938 0.42709932 0.54588328 0.50602259]\n",
      " [0.88313853 0.34657092 0.01553707 0.         0.61364756]\n",
      " [0.26431381 0.35183261 0.45958413 1.         0.55621079]\n",
      " [0.56159759 0.09220358 0.57232311 0.05533443 0.45661422]\n",
      " [0.29799444 0.72828858 0.68169787 0.62493869 0.2751747 ]]\n"
     ]
    }
   ],
   "source": [
    "x=np.random.random((5,5))\n",
    "print(\"Original Array:\",x)\n",
    "xmax,xmin=x.max(),x.min()\n",
    "x=(x-xmin)/(xmax-xmin)\n",
    "print(\"After Normalization:\",x)"
   ]
  },
  {
   "cell_type": "markdown",
   "metadata": {},
   "source": [
    "# 5.  How to find common values between two arrays?"
   ]
  },
  {
   "cell_type": "code",
   "execution_count": 11,
   "metadata": {},
   "outputs": [
    {
     "name": "stdout",
     "output_type": "stream",
     "text": [
      "Array_1: [1 2 3 4 5 6]\n",
      "Array_2: [10, 4, 11, 7, 5, 2]\n",
      "Common values are: [2 4 5]\n"
     ]
    }
   ],
   "source": [
    "array_1=np.array([1,2,3,4,5,6])\n",
    "print(\"Array_1:\",array_1)\n",
    "array_2=[10,4,11,7,5,2]\n",
    "print(\"Array_2:\",array_2)\n",
    "ans=np.intersect1d(array_1,array_2)\n",
    "print(\"Common values are:\",ans)"
   ]
  },
  {
   "cell_type": "markdown",
   "metadata": {},
   "source": [
    "# 6.How to get the dates of yesterday, today and tomorrow?"
   ]
  },
  {
   "cell_type": "code",
   "execution_count": 12,
   "metadata": {},
   "outputs": [
    {
     "name": "stdout",
     "output_type": "stream",
     "text": [
      "Yestraday:  2020-07-24\n",
      "Today:  2020-07-25\n",
      "Tomorrow:  2020-07-26\n"
     ]
    }
   ],
   "source": [
    "import numpy as np\n",
    "yesterday = np.datetime64('today', 'D') - np.timedelta64(1, 'D')\n",
    "print(\"Yestraday: \",yesterday)\n",
    "today     = np.datetime64('today', 'D')\n",
    "print(\"Today: \",today)\n",
    "tomorrow  = np.datetime64('today', 'D') + np.timedelta64(1, 'D')\n",
    "print(\"Tomorrow: \",tomorrow)"
   ]
  },
  {
   "cell_type": "markdown",
   "metadata": {},
   "source": [
    "# 7. Consider two random array A and B, check if they are equal"
   ]
  },
  {
   "cell_type": "code",
   "execution_count": 14,
   "metadata": {},
   "outputs": [
    {
     "name": "stdout",
     "output_type": "stream",
     "text": [
      "array_1:\n",
      "[[0.18812333 0.99403252 0.39646293]\n",
      " [0.0546827  0.45047724 0.30812809]\n",
      " [0.22273566 0.44346779 0.49054482]]\n",
      "array_2:\n",
      "[[0.84079428 0.77883695 0.74892692]\n",
      " [0.44993234 0.9612728  0.63074181]\n",
      " [0.73961212 0.94747352 0.28475005]]\n",
      "False\n"
     ]
    }
   ],
   "source": [
    "a=np.random.random((3,3))\n",
    "print(\"array_1:\")\n",
    "print(a)\n",
    "b=np.random.random((3,3))\n",
    "print(\"array_2:\")\n",
    "print(b)\n",
    "array_equal=np.allclose(a,b)\n",
    "print(array_equal)\n"
   ]
  },
  {
   "cell_type": "markdown",
   "metadata": {},
   "source": [
    "# 8.Create random vector of size 10 and replace the maximum value by 0 "
   ]
  },
  {
   "cell_type": "code",
   "execution_count": 15,
   "metadata": {},
   "outputs": [
    {
     "name": "stdout",
     "output_type": "stream",
     "text": [
      "Original Array:\n",
      "[0.37813777 0.50335057 0.20475772 0.89875227 0.6478007  0.97298315\n",
      " 0.1830486  0.23004524 0.60733771 0.86161387]\n",
      "Maximum Value replaced by 0:\n",
      "[0.37813777 0.50335057 0.20475772 0.89875227 0.6478007  0.\n",
      " 0.1830486  0.23004524 0.60733771 0.86161387]\n"
     ]
    }
   ],
   "source": [
    "x=np.random.random(10)\n",
    "print(\"Original Array:\")\n",
    "print(x)\n",
    "x[x.argmax()]=0\n",
    "print(\"Maximum Value replaced by 0:\")\n",
    "print(x)"
   ]
  },
  {
   "cell_type": "markdown",
   "metadata": {},
   "source": [
    "# 9. How to print all the values of an array?"
   ]
  },
  {
   "cell_type": "code",
   "execution_count": 16,
   "metadata": {},
   "outputs": [
    {
     "name": "stdout",
     "output_type": "stream",
     "text": [
      "All values of the array are:\n",
      "[ 0  1  2  3  4  5  6  7  8  9 10 11 12 13 14 15 16 17 18 19]\n"
     ]
    }
   ],
   "source": [
    "array=np.arange(20)\n",
    "np.set_printoptions(threshold=np.inf)\n",
    "print(\"All values of the array are:\")\n",
    "print(array)"
   ]
  },
  {
   "cell_type": "markdown",
   "metadata": {},
   "source": [
    "# 10.Subtract the mean of each row of a matrix"
   ]
  },
  {
   "cell_type": "code",
   "execution_count": 17,
   "metadata": {},
   "outputs": [
    {
     "name": "stdout",
     "output_type": "stream",
     "text": [
      "Original matrix:\n",
      "\n",
      "[[0.14487654 0.21096827 0.72082213 0.26582925]\n",
      " [0.37297174 0.2485453  0.86189706 0.63829932]\n",
      " [0.03608074 0.68434801 0.49216319 0.38462006]]\n",
      "\n",
      "Subtract the mean of each row of the said matrix:\n",
      "\n",
      "[[-0.1907475  -0.12465578  0.38519808 -0.0697948 ]\n",
      " [-0.15745662 -0.28188306  0.33146871  0.10787097]\n",
      " [-0.36322226  0.28504502  0.09286019 -0.01468294]]\n"
     ]
    }
   ],
   "source": [
    "print(\"Original matrix:\\n\")\n",
    "X = np.random.rand(3,4)\n",
    "print(X)\n",
    "print(\"\\nSubtract the mean of each row of the said matrix:\\n\")\n",
    "Y = X - X.mean(axis=1, keepdims=True)\n",
    "print(Y)\n"
   ]
  },
  {
   "cell_type": "markdown",
   "metadata": {},
   "source": [
    "# 11.Consider a given vector, how to add 1 to each element indexed by a second vector (be careful with repeated indices)? "
   ]
  },
  {
   "cell_type": "code",
   "execution_count": 18,
   "metadata": {},
   "outputs": [
    {
     "name": "stdout",
     "output_type": "stream",
     "text": [
      "[4. 2. 2. 5. 1. 1. 2. 5. 4. 4.]\n"
     ]
    }
   ],
   "source": [
    "x=np.ones(10)\n",
    "y=np.random.randint(0,len(x),20)\n",
    "x+=np.bincount(y,minlength=len(x))\n",
    "print(x)"
   ]
  },
  {
   "cell_type": "code",
   "execution_count": null,
   "metadata": {},
   "outputs": [],
   "source": []
  },
  {
   "cell_type": "markdown",
   "metadata": {},
   "source": [
    "# 12.How to get the diagonal of a dot product?"
   ]
  },
  {
   "cell_type": "code",
   "execution_count": 19,
   "metadata": {},
   "outputs": [
    {
     "data": {
      "text/plain": [
       "array([0.75645591, 1.2083381 , 0.79343512, 1.02231614, 0.53315604])"
      ]
     },
     "execution_count": 19,
     "metadata": {},
     "output_type": "execute_result"
    }
   ],
   "source": [
    "x=np.random.uniform(0,1,(5,5))\n",
    "y=np.random.uniform(0,1,(5,5))\n",
    "np.diag(np.dot(x,y))"
   ]
  },
  {
   "cell_type": "markdown",
   "metadata": {},
   "source": [
    "# 13.How to find the most frequent value in an array?"
   ]
  },
  {
   "cell_type": "code",
   "execution_count": 20,
   "metadata": {},
   "outputs": [
    {
     "name": "stdout",
     "output_type": "stream",
     "text": [
      "Original array:\n",
      "[1 1 0 0 0 0]\n",
      "Most frequent value in the above array:\n",
      "0\n"
     ]
    }
   ],
   "source": [
    "x=np.random.randint(0,3,6)\n",
    "print(\"Original array:\")\n",
    "print(x)\n",
    "print(\"Most frequent value in the above array:\")\n",
    "print(np.bincount(x).argmax())"
   ]
  },
  {
   "cell_type": "markdown",
   "metadata": {},
   "source": [
    "# 14.How to get the n largest values of an array"
   ]
  },
  {
   "cell_type": "code",
   "execution_count": 22,
   "metadata": {},
   "outputs": [
    {
     "name": "stdout",
     "output_type": "stream",
     "text": [
      "Original Array:\n",
      "[ 0  1  2  3  4  5  6  7  8  9 10 11 12 13 14]\n",
      "[14]\n"
     ]
    }
   ],
   "source": [
    "x=np.arange(15)\n",
    "print(\"Original Array:\")\n",
    "print(x)\n",
    "np.random.shuffle(x)\n",
    "n=1\n",
    "print(x[np.argsort(x)[-n:]])"
   ]
  },
  {
   "cell_type": "markdown",
   "metadata": {},
   "source": [
    "# 15.How to create a record array from a regular array?"
   ]
  },
  {
   "cell_type": "code",
   "execution_count": 23,
   "metadata": {},
   "outputs": [
    {
     "name": "stdout",
     "output_type": "stream",
     "text": [
      "Original arrays:\n",
      "[['pushpa' '88.5' '90']\n",
      " ['raju' '87' '99']\n",
      " ['rita' '85.5' '91']]\n",
      "\n",
      "Record array;\n",
      "[(b'pushpa', 88.5, 90) (b'raju', 87. , 99) (b'rita', 85.5, 91)]\n"
     ]
    }
   ],
   "source": [
    "arra1 = np.array([(\"pushpa\", 88.5, 90),\n",
    "                 (\"raju\", 87, 99),\n",
    "             (\"rita\", 85.5, 91)])\n",
    "print(\"Original arrays:\")\n",
    "print(arra1)\n",
    "print(\"\\nRecord array;\")\n",
    "result = np.core.records.fromarrays(arra1.T,\n",
    "                              names='col1, col2, col3',\n",
    "                              formats = 'S80, f8, i8')\n",
    "print(result)"
   ]
  },
  {
   "cell_type": "code",
   "execution_count": null,
   "metadata": {},
   "outputs": [],
   "source": []
  }
 ],
 "metadata": {
  "kernelspec": {
   "display_name": "Python 3",
   "language": "python",
   "name": "python3"
  },
  "language_info": {
   "codemirror_mode": {
    "name": "ipython",
    "version": 3
   },
   "file_extension": ".py",
   "mimetype": "text/x-python",
   "name": "python",
   "nbconvert_exporter": "python",
   "pygments_lexer": "ipython3",
   "version": "3.7.6"
  }
 },
 "nbformat": 4,
 "nbformat_minor": 2
}
