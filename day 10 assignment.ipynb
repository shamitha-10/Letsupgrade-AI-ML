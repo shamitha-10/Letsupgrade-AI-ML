{
 "cells": [
  {
   "cell_type": "markdown",
   "metadata": {},
   "source": [
    "# Hypothesis statements\n",
    "\n"
   ]
  },
  {
   "cell_type": "markdown",
   "metadata": {},
   "source": [
    "1:For a sample of 100 employees the mean age of attrition is 37.\n",
    "    \n",
    "2:For a sample of 80 employees the meadian of monthly income is 50K. \n",
    "\n",
    "3:For a sample of 70 employees the variance of joblevel of attrition is 1.5e.\n",
    "\n",
    "4:For a sample of 120 employees the skewneff of standardhours of working is 0.0.\n",
    "\n",
    "5:Marital status doesn't affect the attrition.\n",
    "\n",
    "6:For a sample of 30 employees the kurtosis of years at company of attrition is 4.\n",
    "\n",
    "7:For a sample of 90 employees the skewness of distancefromhome of attrition is 0.95. \n",
    "\n",
    "8:For a sample of 55 employees the median of education of attrition is 3.0. \n",
    "\n",
    "9:There is no significant relationship between marital status of the employees and gender.\n",
    "\n",
    "10:For a sample of 42 employees the standard deviation of percentsalaryhike of attrition is 3.65. \n"
   ]
  }
 ],
 "metadata": {
  "kernelspec": {
   "display_name": "Python 3",
   "language": "python",
   "name": "python3"
  },
  "language_info": {
   "codemirror_mode": {
    "name": "ipython",
    "version": 3
   },
   "file_extension": ".py",
   "mimetype": "text/x-python",
   "name": "python",
   "nbconvert_exporter": "python",
   "pygments_lexer": "ipython3",
   "version": "3.7.6"
  }
 },
 "nbformat": 4,
 "nbformat_minor": 4
}
