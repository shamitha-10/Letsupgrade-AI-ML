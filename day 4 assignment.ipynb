{
 "cells": [
  {
   "cell_type": "markdown",
   "metadata": {},
   "source": [
    "# Question 1\n",
    "\n",
    "Operation like addition,subtraction,multiplication and division can be performed but modulo division and floor division can't be performed for complex numbers.\n",
    "\n"
   ]
  },
  {
   "cell_type": "code",
   "execution_count": 4,
   "metadata": {},
   "outputs": [
    {
     "name": "stdout",
     "output_type": "stream",
     "text": [
      "addition = (11+8j)\n",
      "subtraction= (3+2j)\n",
      "multiplication= (13+41j)\n",
      "division = (1.72-0.04j)\n"
     ]
    }
   ],
   "source": [
    "x=7+5j\n",
    "y=4+3j\n",
    "print(\"addition =\",x+y)\n",
    "print(\"subtraction=\",x-y)\n",
    "print(\"multiplication=\",x*y)\n",
    "print(\"division =\",x/y)\n"
   ]
  },
  {
   "cell_type": "markdown",
   "metadata": {},
   "source": [
    "# Question 2\n",
    "\n",
    "range() function is a built in function,it generates numbers from 0(by default) to the end number that is specified.\n",
    "It has three parameters -start,stop and step.start means from where it should start,and stop means till where it should generate the numbers.The end number is not included.step tells us the increment of the number being produced, by default the number is incremented by 1.It should be a integer number."
   ]
  },
  {
   "cell_type": "code",
   "execution_count": 6,
   "metadata": {},
   "outputs": [
    {
     "name": "stdout",
     "output_type": "stream",
     "text": [
      "1\n",
      "3\n",
      "5\n",
      "7\n",
      "9\n"
     ]
    }
   ],
   "source": [
    "a=(range(10))\n",
    "for i in a:\n",
    "    if(i%2!=0):\n",
    "        print(i)"
   ]
  },
  {
   "cell_type": "markdown",
   "metadata": {},
   "source": [
    "# Question 3"
   ]
  },
  {
   "cell_type": "code",
   "execution_count": 7,
   "metadata": {},
   "outputs": [
    {
     "name": "stdout",
     "output_type": "stream",
     "text": [
      "multiplication = 1288\n"
     ]
    }
   ],
   "source": [
    "a=56\n",
    "b=23\n",
    "c=a-b\n",
    "if(c>25):\n",
    "    print(\"multiplication =\",a*b)\n",
    "else:\n",
    "    print(\"division =\",a/b)"
   ]
  },
  {
   "cell_type": "markdown",
   "metadata": {},
   "source": [
    "# Question 4\n"
   ]
  },
  {
   "cell_type": "code",
   "execution_count": 9,
   "metadata": {},
   "outputs": [
    {
     "name": "stdout",
     "output_type": "stream",
     "text": [
      "square of 16 minus 2 is 254\n",
      "square of 18 minus 2 is 322\n",
      "square of 32 minus 2 is 1022\n",
      "square of 46 minus 2 is 2114\n",
      "square of 58 minus 2 is 3362\n",
      "square of 66 minus 2 is 4354\n"
     ]
    }
   ],
   "source": [
    "lst=[16,18,27,32,43,46,51,58,63,66]\n",
    "for i in lst:\n",
    "    if(i%2==0):\n",
    "        print(\"square of\", i,\"minus 2 is\",(i**2-2))"
   ]
  },
  {
   "cell_type": "markdown",
   "metadata": {},
   "source": [
    "# Question 5"
   ]
  },
  {
   "cell_type": "code",
   "execution_count": 11,
   "metadata": {},
   "outputs": [
    {
     "name": "stdout",
     "output_type": "stream",
     "text": [
      "37\n",
      "44\n",
      "58\n",
      "63\n",
      "65\n",
      "68\n",
      "74\n"
     ]
    }
   ],
   "source": [
    "lst=[5,9,13,37,44,58,63,65,68,74]\n",
    "for i in lst:\n",
    "    if((i/2)>7):\n",
    "        print(i)"
   ]
  },
  {
   "cell_type": "code",
   "execution_count": null,
   "metadata": {},
   "outputs": [],
   "source": []
  }
 ],
 "metadata": {
  "kernelspec": {
   "display_name": "Python 3",
   "language": "python",
   "name": "python3"
  },
  "language_info": {
   "codemirror_mode": {
    "name": "ipython",
    "version": 3
   },
   "file_extension": ".py",
   "mimetype": "text/x-python",
   "name": "python",
   "nbconvert_exporter": "python",
   "pygments_lexer": "ipython3",
   "version": "3.7.6"
  }
 },
 "nbformat": 4,
 "nbformat_minor": 4
}
