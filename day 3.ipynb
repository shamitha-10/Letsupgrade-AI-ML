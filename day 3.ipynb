{
 "cells": [
  {
   "cell_type": "code",
   "execution_count": 6,
   "metadata": {},
   "outputs": [
    {
     "name": "stdout",
     "output_type": "stream",
     "text": [
      "Enter the first complex number:6+10j\n",
      "Enter the second complex number:3+4j\n",
      "Subtraction of the 2 numbers is (3+6j)\n"
     ]
    }
   ],
   "source": [
    "#Question 1\n",
    "a=complex(input(\"Enter the first complex number:\"))\n",
    "b=complex(input(\"Enter the second complex number:\"))\n",
    "c=a-b\n",
    "print(\"Subtraction of the 2 numbers is\",c)"
   ]
  },
  {
   "cell_type": "code",
   "execution_count": 12,
   "metadata": {},
   "outputs": [
    {
     "name": "stdout",
     "output_type": "stream",
     "text": [
      "enter the number:23\n",
      "The fourth root of the number is  2.189938703094842\n"
     ]
    }
   ],
   "source": [
    "#Question 2\n",
    "x=int(input(\"enter the number:\"))\n",
    "y=x**(1/4)\n",
    "print(\"The fourth root of the number is \",y)\n"
   ]
  },
  {
   "cell_type": "code",
   "execution_count": 7,
   "metadata": {},
   "outputs": [
    {
     "name": "stdout",
     "output_type": "stream",
     "text": [
      "Enter the first number:6\n",
      "Enter the second number:8\n",
      "First number= 8\n",
      "Second number= 6\n"
     ]
    }
   ],
   "source": [
    "#Question 3\n",
    "num1=int(input(\"Enter the first number:\"))\n",
    "num2=int(input(\"Enter the second number:\"))\n",
    "num3=num1\n",
    "num1=num2\n",
    "num2=num3\n",
    "print(\"First number=\",num1)\n",
    "print(\"Second number=\",num2)"
   ]
  },
  {
   "cell_type": "code",
   "execution_count": 8,
   "metadata": {},
   "outputs": [
    {
     "name": "stdout",
     "output_type": "stream",
     "text": [
      "Enter the first number:9\n",
      "Enter the second number:5\n",
      "First number= 5\n",
      "Second number= 9\n"
     ]
    }
   ],
   "source": [
    "#Question 4\n",
    "p=int(input(\"Enter the first number:\"))\n",
    "q=int(input(\"Enter the second number:\"))\n",
    "p=p+q\n",
    "q=p-q\n",
    "p=p-q\n",
    "print(\"First number=\",p)\n",
    "print(\"Second number=\",q)"
   ]
  },
  {
   "cell_type": "code",
   "execution_count": 9,
   "metadata": {},
   "outputs": [
    {
     "name": "stdout",
     "output_type": "stream",
     "text": [
      "Enter the temperature in fahrenheit=56\n",
      "Temperature in celsius= 13.333333333333334\n",
      "Temperature in kelvin= 286.3333333333333\n"
     ]
    }
   ],
   "source": [
    "#Question 5\n",
    "f=float(input(\"Enter the temperature in fahrenheit=\"))\n",
    "c=(f-32)*(5/9)\n",
    "k=c+273\n",
    "print(\"Temperature in celsius=\",c)\n",
    "print(\"Temperature in kelvin=\",k)\n"
   ]
  },
  {
   "cell_type": "code",
   "execution_count": 15,
   "metadata": {},
   "outputs": [
    {
     "name": "stdout",
     "output_type": "stream",
     "text": [
      "Data type of a = <class 'int'>\n",
      "Data type of b = <class 'float'>\n",
      "Data type of c = <class 'complex'>\n",
      "Data type of d = <class 'str'>\n",
      "Data type of e = <class 'list'>\n",
      "Data type of f = <class 'tuple'>\n",
      "Data type of g = <class 'set'>\n",
      "Data type of h = <class 'dict'>\n"
     ]
    }
   ],
   "source": [
    "#Question 6\n",
    "#data types in python\n",
    "a=10\n",
    "print(\"Data type of a =\",type(a))\n",
    "b=34.345\n",
    "print(\"Data type of b =\",type(b))\n",
    "c=4+7j\n",
    "print(\"Data type of c =\",type(c))\n",
    "d=\"hello\"\n",
    "print(\"Data type of d =\",type(d))\n",
    "e=['book','pen','pencil']\n",
    "print(\"Data type of e =\",type(e))\n",
    "f=(23,67,93)\n",
    "print(\"Data type of f =\",type(f))\n",
    "g={67,245,'apple'}\n",
    "print(\"Data type of g =\",type(g))\n",
    "h={\"name\":\"rita\",\"fruit\":\"mango\"}\n",
    "print(\"Data type of h =\",type(h))"
   ]
  },
  {
   "cell_type": "markdown",
   "metadata": {},
   "source": [
    "github profile\n",
    "\n",
    "1:go to github\n",
    "2:create a account using your Gmail\n",
    "3:click on new repository and create it\n",
    "4:name the repository as 'Letsupgrade AL-ML'\n",
    "5:Let it be public\n",
    "\n",
    "upload assignment\n",
    "\n",
    "1:go to your repository \n",
    "2:click on upload existing file\n",
    "3:drag and upload it there\n",
    "4:once it is done copy the url and paste it in the google form that is provided to us\n",
    "\n",
    "\n",
    "\n"
   ]
  }
 ],
 "metadata": {
  "kernelspec": {
   "display_name": "Python 3",
   "language": "python",
   "name": "python3"
  },
  "language_info": {
   "codemirror_mode": {
    "name": "ipython",
    "version": 3
   },
   "file_extension": ".py",
   "mimetype": "text/x-python",
   "name": "python",
   "nbconvert_exporter": "python",
   "pygments_lexer": "ipython3",
   "version": "3.7.6"
  }
 },
 "nbformat": 4,
 "nbformat_minor": 4
}
