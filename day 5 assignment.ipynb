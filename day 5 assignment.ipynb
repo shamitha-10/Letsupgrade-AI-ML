{
 "cells": [
  {
   "cell_type": "markdown",
   "metadata": {},
   "source": [
    "# Question 1"
   ]
  },
  {
   "cell_type": "code",
   "execution_count": 18,
   "metadata": {},
   "outputs": [
    {
     "name": "stdout",
     "output_type": "stream",
     "text": [
      "The prime number is  3\n",
      "The prime number is  5\n",
      "The prime number is  7\n",
      "The prime number is  11\n",
      "The prime number is  13\n",
      "The prime number is  17\n",
      "The prime number is  19\n",
      "The prime number is  23\n",
      "The prime number is  29\n",
      "The prime number is  31\n",
      "The prime number is  37\n",
      "The prime number is  41\n",
      "The prime number is  43\n",
      "The prime number is  47\n",
      "The prime number is  53\n",
      "The prime number is  59\n",
      "The prime number is  61\n",
      "The prime number is  67\n",
      "The prime number is  71\n",
      "The prime number is  73\n"
     ]
    }
   ],
   "source": [
    "for num in range(2,74):\n",
    "\n",
    "    i = 2\n",
    "\n",
    "    for i in range(2, num):\n",
    "        if(num % i == 0):\n",
    "            i = num\n",
    "            break;\n",
    "\n",
    "    if(i != num):\n",
    "        print(\"The prime number is \",num)\n",
    "    \n",
    "    \n",
    "    "
   ]
  },
  {
   "cell_type": "markdown",
   "metadata": {},
   "source": [
    "# Question 2"
   ]
  },
  {
   "cell_type": "code",
   "execution_count": 26,
   "metadata": {},
   "outputs": [
    {
     "name": "stdout",
     "output_type": "stream",
     "text": [
      "hello everyone\n",
      "False\n",
      "hELLO eVERYONE\n",
      "False\n",
      "Hello Everyonelets learn something today\n",
      "2\n",
      "Hzllo Evzryonz\n",
      "14\n",
      "hello everyone\n",
      "7\n",
      "True\n",
      "Lets Learn Something Today\n",
      "zzzHello Everyonezzz\n",
      "Hello Everyone\n",
      "False\n"
     ]
    }
   ],
   "source": [
    "a=\"Hello Everyone\"\n",
    "b=\"lets learn something today\"\n",
    "print(a.casefold())\n",
    "print(a.endswith('a'))\n",
    "print(a.swapcase())\n",
    "print(a.isalpha())\n",
    "print(a+b)\n",
    "print(a.count('o'))\n",
    "print(a.replace('e','z'))\n",
    "print(len(a))\n",
    "print(a.lower())\n",
    "print(a.find('v'))\n",
    "print(a.startswith('H'))\n",
    "print(b.title())\n",
    "print(a.center(20,'z'))\n",
    "print(a.expandtabs())\n",
    "print(a.isdigit())\n"
   ]
  },
  {
   "cell_type": "markdown",
   "metadata": {},
   "source": [
    "# Question 3"
   ]
  },
  {
   "cell_type": "code",
   "execution_count": 2,
   "metadata": {},
   "outputs": [
    {
     "name": "stdout",
     "output_type": "stream",
     "text": [
      "Enter string 1:madam\n",
      "Enter string 2:nurse\n",
      "string 1 is palindrome\n"
     ]
    }
   ],
   "source": [
    "def isanagram(s1,s2):\n",
    "    return sorted(s1)==sorted(s2)\n",
    "def ispalindrome(s1):\n",
    "    return s1== s1[::-1]\n",
    "s1=str(input(\"Enter string 1:\"))\n",
    "s2=str(input(\"Enter string 2:\"))\n",
    "a=ispalindrome(s1)\n",
    "b=isanagram(s1,s2)\n",
    "if a:\n",
    "    print(\"string 1 is palindrome\")\n",
    "elif b:\n",
    "    print(\"string is anagram\")\n",
    "else:\n",
    "    print(\"none of them\")"
   ]
  },
  {
   "cell_type": "markdown",
   "metadata": {},
   "source": [
    "# Question 4"
   ]
  },
  {
   "cell_type": "code",
   "execution_count": 25,
   "metadata": {},
   "outputs": [
    {
     "name": "stdout",
     "output_type": "stream",
     "text": [
      "helloeveryonehowareyouallhome\n"
     ]
    }
   ],
   "source": [
    "def remove(characters):\n",
    "    alpha=\"abcdefghijklmnopqrstuvwxyz1234567890\"\n",
    "    characters=characters.lower().replace(\" \",\"\")\n",
    "    new=\"\"\n",
    "    for i in characters:\n",
    "        if i in alpha:\n",
    "            new=new+i\n",
    "    print(new)\n",
    "remove(\"HELLO EVERYONE.How are you all @home\")\n",
    "\n",
    "\n"
   ]
  },
  {
   "cell_type": "code",
   "execution_count": null,
   "metadata": {},
   "outputs": [],
   "source": []
  },
  {
   "cell_type": "code",
   "execution_count": null,
   "metadata": {},
   "outputs": [],
   "source": []
  }
 ],
 "metadata": {
  "kernelspec": {
   "display_name": "Python 3",
   "language": "python",
   "name": "python3"
  },
  "language_info": {
   "codemirror_mode": {
    "name": "ipython",
    "version": 3
   },
   "file_extension": ".py",
   "mimetype": "text/x-python",
   "name": "python",
   "nbconvert_exporter": "python",
   "pygments_lexer": "ipython3",
   "version": "3.7.6"
  }
 },
 "nbformat": 4,
 "nbformat_minor": 4
}
