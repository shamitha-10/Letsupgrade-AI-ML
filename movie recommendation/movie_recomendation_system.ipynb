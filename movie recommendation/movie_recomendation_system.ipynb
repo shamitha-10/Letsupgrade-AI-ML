{
  "nbformat": 4,
  "nbformat_minor": 0,
  "metadata": {
    "colab": {
      "name": "movie_recomendation_system.ipynb",
      "provenance": []
    },
    "kernelspec": {
      "name": "python3",
      "display_name": "Python 3"
    }
  },
  "cells": [
    {
      "cell_type": "code",
      "metadata": {
        "id": "mw9H_nGa7T72"
      },
      "source": [
        "import pandas as pd\n",
        "import numpy as np\n",
        "import matplotlib.pyplot as plt"
      ],
      "execution_count": null,
      "outputs": []
    },
    {
      "cell_type": "code",
      "metadata": {
        "colab": {
          "resources": {
            "http://localhost:8080/nbextensions/google.colab/files.js": {
              "data": "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",
              "ok": true,
              "headers": [
                [
                  "content-type",
                  "application/javascript"
                ]
              ],
              "status": 200,
              "status_text": ""
            }
          },
          "base_uri": "https://localhost:8080/",
          "height": 73
        },
        "id": "3UsEv8CQ7na1",
        "outputId": "a0e03a54-59b2-46a5-e609-8d47334eddc4"
      },
      "source": [
        "from google.colab import files\n",
        "uploaded = files.upload()"
      ],
      "execution_count": null,
      "outputs": [
        {
          "output_type": "display_data",
          "data": {
            "text/html": [
              "\n",
              "     <input type=\"file\" id=\"files-b3230085-25e0-4451-92cb-cdd27c91ff70\" name=\"files[]\" multiple disabled\n",
              "        style=\"border:none\" />\n",
              "     <output id=\"result-b3230085-25e0-4451-92cb-cdd27c91ff70\">\n",
              "      Upload widget is only available when the cell has been executed in the\n",
              "      current browser session. Please rerun this cell to enable.\n",
              "      </output>\n",
              "      <script src=\"/nbextensions/google.colab/files.js\"></script> "
            ],
            "text/plain": [
              "<IPython.core.display.HTML object>"
            ]
          },
          "metadata": {
            "tags": []
          }
        },
        {
          "output_type": "stream",
          "text": [
            "Saving movies_metadata.csv to movies_metadata.csv\n"
          ],
          "name": "stdout"
        }
      ]
    },
    {
      "cell_type": "code",
      "metadata": {
        "colab": {
          "base_uri": "https://localhost:8080/",
          "height": 652
        },
        "id": "a4szJcz17vJa",
        "outputId": "e147e37c-65da-419d-fa29-41f9b49e357e"
      },
      "source": [
        "df = pd.read_csv('movies_metadata.csv', low_memory=False)\n",
        "df.head()"
      ],
      "execution_count": null,
      "outputs": [
        {
          "output_type": "execute_result",
          "data": {
            "text/html": [
              "<div>\n",
              "<style scoped>\n",
              "    .dataframe tbody tr th:only-of-type {\n",
              "        vertical-align: middle;\n",
              "    }\n",
              "\n",
              "    .dataframe tbody tr th {\n",
              "        vertical-align: top;\n",
              "    }\n",
              "\n",
              "    .dataframe thead th {\n",
              "        text-align: right;\n",
              "    }\n",
              "</style>\n",
              "<table border=\"1\" class=\"dataframe\">\n",
              "  <thead>\n",
              "    <tr style=\"text-align: right;\">\n",
              "      <th></th>\n",
              "      <th>adult</th>\n",
              "      <th>belongs_to_collection</th>\n",
              "      <th>budget</th>\n",
              "      <th>genres</th>\n",
              "      <th>homepage</th>\n",
              "      <th>id</th>\n",
              "      <th>imdb_id</th>\n",
              "      <th>original_language</th>\n",
              "      <th>original_title</th>\n",
              "      <th>overview</th>\n",
              "      <th>popularity</th>\n",
              "      <th>poster_path</th>\n",
              "      <th>production_companies</th>\n",
              "      <th>production_countries</th>\n",
              "      <th>release_date</th>\n",
              "      <th>revenue</th>\n",
              "      <th>runtime</th>\n",
              "      <th>spoken_languages</th>\n",
              "      <th>status</th>\n",
              "      <th>tagline</th>\n",
              "      <th>title</th>\n",
              "      <th>video</th>\n",
              "      <th>vote_average</th>\n",
              "      <th>vote_count</th>\n",
              "    </tr>\n",
              "  </thead>\n",
              "  <tbody>\n",
              "    <tr>\n",
              "      <th>0</th>\n",
              "      <td>FALSE</td>\n",
              "      <td>{'id': 10194, 'name': 'Toy Story Collection', ...</td>\n",
              "      <td>30000000</td>\n",
              "      <td>[{'id': 16, 'name': 'Animation'}, {'id': 35, '...</td>\n",
              "      <td>http://toystory.disney.com/toy-story</td>\n",
              "      <td>862</td>\n",
              "      <td>tt0114709</td>\n",
              "      <td>en</td>\n",
              "      <td>Toy Story</td>\n",
              "      <td>Led by Woody, Andy's toys live happily in his ...</td>\n",
              "      <td>21.946943</td>\n",
              "      <td>/rhIRbceoE9lR4veEXuwCC2wARtG.jpg</td>\n",
              "      <td>[{'name': 'Pixar Animation Studios', 'id': 3}]</td>\n",
              "      <td>[{'iso_3166_1': 'US', 'name': 'United States o...</td>\n",
              "      <td>10/30/1995</td>\n",
              "      <td>373554033.0</td>\n",
              "      <td>81.0</td>\n",
              "      <td>[{'iso_639_1': 'en', 'name': 'English'}]</td>\n",
              "      <td>Released</td>\n",
              "      <td>NaN</td>\n",
              "      <td>Toy Story</td>\n",
              "      <td>False</td>\n",
              "      <td>7.7</td>\n",
              "      <td>5415.0</td>\n",
              "    </tr>\n",
              "    <tr>\n",
              "      <th>1</th>\n",
              "      <td>FALSE</td>\n",
              "      <td>NaN</td>\n",
              "      <td>65000000</td>\n",
              "      <td>[{'id': 12, 'name': 'Adventure'}, {'id': 14, '...</td>\n",
              "      <td>NaN</td>\n",
              "      <td>8844</td>\n",
              "      <td>tt0113497</td>\n",
              "      <td>en</td>\n",
              "      <td>Jumanji</td>\n",
              "      <td>When siblings Judy and Peter discover an encha...</td>\n",
              "      <td>17.015539</td>\n",
              "      <td>/vzmL6fP7aPKNKPRTFnZmiUfciyV.jpg</td>\n",
              "      <td>[{'name': 'TriStar Pictures', 'id': 559}, {'na...</td>\n",
              "      <td>[{'iso_3166_1': 'US', 'name': 'United States o...</td>\n",
              "      <td>12/15/1995</td>\n",
              "      <td>262797249.0</td>\n",
              "      <td>104.0</td>\n",
              "      <td>[{'iso_639_1': 'en', 'name': 'English'}, {'iso...</td>\n",
              "      <td>Released</td>\n",
              "      <td>Roll the dice and unleash the excitement!</td>\n",
              "      <td>Jumanji</td>\n",
              "      <td>False</td>\n",
              "      <td>6.9</td>\n",
              "      <td>2413.0</td>\n",
              "    </tr>\n",
              "    <tr>\n",
              "      <th>2</th>\n",
              "      <td>FALSE</td>\n",
              "      <td>{'id': 119050, 'name': 'Grumpy Old Men Collect...</td>\n",
              "      <td>0</td>\n",
              "      <td>[{'id': 10749, 'name': 'Romance'}, {'id': 35, ...</td>\n",
              "      <td>NaN</td>\n",
              "      <td>15602</td>\n",
              "      <td>tt0113228</td>\n",
              "      <td>en</td>\n",
              "      <td>Grumpier Old Men</td>\n",
              "      <td>A family wedding reignites the ancient feud be...</td>\n",
              "      <td>11.7129</td>\n",
              "      <td>/6ksm1sjKMFLbO7UY2i6G1ju9SML.jpg</td>\n",
              "      <td>[{'name': 'Warner Bros.', 'id': 6194}, {'name'...</td>\n",
              "      <td>[{'iso_3166_1': 'US', 'name': 'United States o...</td>\n",
              "      <td>12/22/1995</td>\n",
              "      <td>0.0</td>\n",
              "      <td>101.0</td>\n",
              "      <td>[{'iso_639_1': 'en', 'name': 'English'}]</td>\n",
              "      <td>Released</td>\n",
              "      <td>Still Yelling. Still Fighting. Still Ready for...</td>\n",
              "      <td>Grumpier Old Men</td>\n",
              "      <td>False</td>\n",
              "      <td>6.5</td>\n",
              "      <td>92.0</td>\n",
              "    </tr>\n",
              "    <tr>\n",
              "      <th>3</th>\n",
              "      <td>FALSE</td>\n",
              "      <td>NaN</td>\n",
              "      <td>16000000</td>\n",
              "      <td>[{'id': 35, 'name': 'Comedy'}, {'id': 18, 'nam...</td>\n",
              "      <td>NaN</td>\n",
              "      <td>31357</td>\n",
              "      <td>tt0114885</td>\n",
              "      <td>en</td>\n",
              "      <td>Waiting to Exhale</td>\n",
              "      <td>Cheated on, mistreated and stepped on, the wom...</td>\n",
              "      <td>3.859495</td>\n",
              "      <td>/16XOMpEaLWkrcPqSQqhTmeJuqQl.jpg</td>\n",
              "      <td>[{'name': 'Twentieth Century Fox Film Corporat...</td>\n",
              "      <td>[{'iso_3166_1': 'US', 'name': 'United States o...</td>\n",
              "      <td>12/22/1995</td>\n",
              "      <td>81452156.0</td>\n",
              "      <td>127.0</td>\n",
              "      <td>[{'iso_639_1': 'en', 'name': 'English'}]</td>\n",
              "      <td>Released</td>\n",
              "      <td>Friends are the people who let you be yourself...</td>\n",
              "      <td>Waiting to Exhale</td>\n",
              "      <td>False</td>\n",
              "      <td>6.1</td>\n",
              "      <td>34.0</td>\n",
              "    </tr>\n",
              "    <tr>\n",
              "      <th>4</th>\n",
              "      <td>FALSE</td>\n",
              "      <td>{'id': 96871, 'name': 'Father of the Bride Col...</td>\n",
              "      <td>0</td>\n",
              "      <td>[{'id': 35, 'name': 'Comedy'}]</td>\n",
              "      <td>NaN</td>\n",
              "      <td>11862</td>\n",
              "      <td>tt0113041</td>\n",
              "      <td>en</td>\n",
              "      <td>Father of the Bride Part II</td>\n",
              "      <td>Just when George Banks has recovered from his ...</td>\n",
              "      <td>8.387519</td>\n",
              "      <td>/e64sOI48hQXyru7naBFyssKFxVd.jpg</td>\n",
              "      <td>[{'name': 'Sandollar Productions', 'id': 5842}...</td>\n",
              "      <td>[{'iso_3166_1': 'US', 'name': 'United States o...</td>\n",
              "      <td>2/10/1995</td>\n",
              "      <td>76578911.0</td>\n",
              "      <td>106.0</td>\n",
              "      <td>[{'iso_639_1': 'en', 'name': 'English'}]</td>\n",
              "      <td>Released</td>\n",
              "      <td>Just When His World Is Back To Normal... He's ...</td>\n",
              "      <td>Father of the Bride Part II</td>\n",
              "      <td>False</td>\n",
              "      <td>5.7</td>\n",
              "      <td>173.0</td>\n",
              "    </tr>\n",
              "  </tbody>\n",
              "</table>\n",
              "</div>"
            ],
            "text/plain": [
              "   adult  ... vote_count\n",
              "0  FALSE  ...     5415.0\n",
              "1  FALSE  ...     2413.0\n",
              "2  FALSE  ...       92.0\n",
              "3  FALSE  ...       34.0\n",
              "4  FALSE  ...      173.0\n",
              "\n",
              "[5 rows x 24 columns]"
            ]
          },
          "metadata": {
            "tags": []
          },
          "execution_count": 3
        }
      ]
    },
    {
      "cell_type": "code",
      "metadata": {
        "colab": {
          "base_uri": "https://localhost:8080/"
        },
        "id": "Bx1V95gS_kuc",
        "outputId": "cbac5c06-682e-4032-f774-e58b224ada34"
      },
      "source": [
        "c=df['vote_average'].mean()\n",
        "c\n"
      ],
      "execution_count": null,
      "outputs": [
        {
          "output_type": "execute_result",
          "data": {
            "text/plain": [
              "5.618207215133889"
            ]
          },
          "metadata": {
            "tags": []
          },
          "execution_count": 5
        }
      ]
    },
    {
      "cell_type": "code",
      "metadata": {
        "colab": {
          "base_uri": "https://localhost:8080/"
        },
        "id": "MhcBjzGC_yB-",
        "outputId": "ee56063a-7bfb-4f74-ee1d-d963d99b1cf9"
      },
      "source": [
        "m=df['vote_count'].quantile(0.9)\n",
        "m"
      ],
      "execution_count": null,
      "outputs": [
        {
          "output_type": "execute_result",
          "data": {
            "text/plain": [
              "160.0"
            ]
          },
          "metadata": {
            "tags": []
          },
          "execution_count": 6
        }
      ]
    },
    {
      "cell_type": "code",
      "metadata": {
        "id": "2n0vk7cT_1MH"
      },
      "source": [
        "\n",
        "qm=df[(df['runtime']>150)&(df['revenue']>300000000)&(df['homepage'].notna())]\n"
      ],
      "execution_count": null,
      "outputs": []
    },
    {
      "cell_type": "code",
      "metadata": {
        "id": "PQ0pgWIl_6RB"
      },
      "source": [
        "\n",
        "qm=qm[qm['vote_count']>=m]"
      ],
      "execution_count": null,
      "outputs": []
    },
    {
      "cell_type": "code",
      "metadata": {
        "colab": {
          "base_uri": "https://localhost:8080/"
        },
        "id": "7ceL13eK_8GE",
        "outputId": "16e7642b-bdcf-4cf6-a0a9-5e69fde225be"
      },
      "source": [
        "qm.shape"
      ],
      "execution_count": null,
      "outputs": [
        {
          "output_type": "execute_result",
          "data": {
            "text/plain": [
              "(27, 24)"
            ]
          },
          "metadata": {
            "tags": []
          },
          "execution_count": 10
        }
      ]
    },
    {
      "cell_type": "code",
      "metadata": {
        "id": "vQ51QtZWAAeZ"
      },
      "source": [
        "def wr(x,m=m,c=c):\n",
        "    v=x['vote_count']\n",
        "    r=x['vote_average']\n",
        "    return (v/(v+m)*r)+(m/(m+v)*c)"
      ],
      "execution_count": null,
      "outputs": []
    },
    {
      "cell_type": "code",
      "metadata": {
        "id": "r0RKFXtDAClv"
      },
      "source": [
        "def wr(x,m=m,c=c):\n",
        "    v=x['vote_count']\n",
        "    r=x['vote_average']\n",
        "    return (v/(v+m)*r)+(m/(m+v)*c)"
      ],
      "execution_count": null,
      "outputs": []
    },
    {
      "cell_type": "code",
      "metadata": {
        "id": "D_CI8qWiAElh"
      },
      "source": [
        "qm['score']=qm.apply(wr,axis=1)\n",
        "qm=qm.sort_values('score',ascending=False)\n"
      ],
      "execution_count": null,
      "outputs": []
    },
    {
      "cell_type": "code",
      "metadata": {
        "colab": {
          "base_uri": "https://localhost:8080/",
          "height": 343
        },
        "id": "5WQmJ0rZAIqa",
        "outputId": "df053205-dc49-4f0b-d9d7-0d9c89e8d92f"
      },
      "source": [
        "qm[['title','vote_count','vote_average','score']].head(10)"
      ],
      "execution_count": null,
      "outputs": [
        {
          "output_type": "execute_result",
          "data": {
            "text/html": [
              "<div>\n",
              "<style scoped>\n",
              "    .dataframe tbody tr th:only-of-type {\n",
              "        vertical-align: middle;\n",
              "    }\n",
              "\n",
              "    .dataframe tbody tr th {\n",
              "        vertical-align: top;\n",
              "    }\n",
              "\n",
              "    .dataframe thead th {\n",
              "        text-align: right;\n",
              "    }\n",
              "</style>\n",
              "<table border=\"1\" class=\"dataframe\">\n",
              "  <thead>\n",
              "    <tr style=\"text-align: right;\">\n",
              "      <th></th>\n",
              "      <th>title</th>\n",
              "      <th>vote_count</th>\n",
              "      <th>vote_average</th>\n",
              "      <th>score</th>\n",
              "    </tr>\n",
              "  </thead>\n",
              "  <tbody>\n",
              "    <tr>\n",
              "      <th>12481</th>\n",
              "      <td>The Dark Knight</td>\n",
              "      <td>12269.0</td>\n",
              "      <td>8.3</td>\n",
              "      <td>8.265477</td>\n",
              "    </tr>\n",
              "    <tr>\n",
              "      <th>522</th>\n",
              "      <td>Schindler's List</td>\n",
              "      <td>4436.0</td>\n",
              "      <td>8.3</td>\n",
              "      <td>8.206639</td>\n",
              "    </tr>\n",
              "    <tr>\n",
              "      <th>22879</th>\n",
              "      <td>Interstellar</td>\n",
              "      <td>11187.0</td>\n",
              "      <td>8.1</td>\n",
              "      <td>8.065005</td>\n",
              "    </tr>\n",
              "    <tr>\n",
              "      <th>7000</th>\n",
              "      <td>The Lord of the Rings: The Return of the King</td>\n",
              "      <td>8226.0</td>\n",
              "      <td>8.1</td>\n",
              "      <td>8.052649</td>\n",
              "    </tr>\n",
              "    <tr>\n",
              "      <th>4863</th>\n",
              "      <td>The Lord of the Rings: The Fellowship of the Ring</td>\n",
              "      <td>8892.0</td>\n",
              "      <td>8.0</td>\n",
              "      <td>7.957900</td>\n",
              "    </tr>\n",
              "    <tr>\n",
              "      <th>5814</th>\n",
              "      <td>The Lord of the Rings: The Two Towers</td>\n",
              "      <td>7641.0</td>\n",
              "      <td>8.0</td>\n",
              "      <td>7.951149</td>\n",
              "    </tr>\n",
              "    <tr>\n",
              "      <th>22131</th>\n",
              "      <td>The Wolf of Wall Street</td>\n",
              "      <td>6768.0</td>\n",
              "      <td>7.9</td>\n",
              "      <td>7.847303</td>\n",
              "    </tr>\n",
              "    <tr>\n",
              "      <th>13605</th>\n",
              "      <td>Inglourious Basterds</td>\n",
              "      <td>6598.0</td>\n",
              "      <td>7.9</td>\n",
              "      <td>7.845977</td>\n",
              "    </tr>\n",
              "    <tr>\n",
              "      <th>20051</th>\n",
              "      <td>Django Unchained</td>\n",
              "      <td>10297.0</td>\n",
              "      <td>7.8</td>\n",
              "      <td>7.766617</td>\n",
              "    </tr>\n",
              "    <tr>\n",
              "      <th>18252</th>\n",
              "      <td>The Dark Knight Rises</td>\n",
              "      <td>9263.0</td>\n",
              "      <td>7.6</td>\n",
              "      <td>7.566350</td>\n",
              "    </tr>\n",
              "  </tbody>\n",
              "</table>\n",
              "</div>"
            ],
            "text/plain": [
              "                                                   title  ...     score\n",
              "12481                                    The Dark Knight  ...  8.265477\n",
              "522                                     Schindler's List  ...  8.206639\n",
              "22879                                       Interstellar  ...  8.065005\n",
              "7000       The Lord of the Rings: The Return of the King  ...  8.052649\n",
              "4863   The Lord of the Rings: The Fellowship of the Ring  ...  7.957900\n",
              "5814               The Lord of the Rings: The Two Towers  ...  7.951149\n",
              "22131                            The Wolf of Wall Street  ...  7.847303\n",
              "13605                               Inglourious Basterds  ...  7.845977\n",
              "20051                                   Django Unchained  ...  7.766617\n",
              "18252                              The Dark Knight Rises  ...  7.566350\n",
              "\n",
              "[10 rows x 4 columns]"
            ]
          },
          "metadata": {
            "tags": []
          },
          "execution_count": 15
        }
      ]
    },
    {
      "cell_type": "code",
      "metadata": {
        "colab": {
          "base_uri": "https://localhost:8080/",
          "height": 257
        },
        "id": "dmMWJrMGASV0",
        "outputId": "b5bcec8b-6a8c-45e1-e1e7-4ba3e3a077be"
      },
      "source": [
        "d=df.sort_values('vote_count',ascending=False)\n",
        "plt.figure(figsize=(18,6))\n",
        "\n",
        "plt.barh(d['title'].head(15),d['vote_count'].head(15),align='center',color='cornflowerblue')\n",
        "plt.gca().invert_yaxis()\n",
        "plt.xlabel(\"Votes\")\n",
        "plt.title(\"MOst voted Movies\")"
      ],
      "execution_count": null,
      "outputs": [
        {
          "output_type": "execute_result",
          "data": {
            "text/plain": [
              "Text(0.5, 1.0, 'MOst voted Movies')"
            ]
          },
          "metadata": {
            "tags": []
          },
          "execution_count": 16
        },
        {
          "output_type": "display_data",
          "data": {
            "image/png": "[encoded data removed]",
            "text/plain": [
              "<Figure size 1296x432 with 1 Axes>"
            ]
          },
          "metadata": {
            "tags": [],
            "needs_background": "light"
          }
        }
      ]
    },
    {
      "cell_type": "code",
      "metadata": {
        "colab": {
          "base_uri": "https://localhost:8080/",
          "height": 518
        },
        "id": "We7kBG9DAVz6",
        "outputId": "74e657d8-b852-4244-cb7d-0cb172d3a383"
      },
      "source": [
        "df.tail()"
      ],
      "execution_count": null,
      "outputs": [
        {
          "output_type": "execute_result",
          "data": {
            "text/html": [
              "<div>\n",
              "<style scoped>\n",
              "    .dataframe tbody tr th:only-of-type {\n",
              "        vertical-align: middle;\n",
              "    }\n",
              "\n",
              "    .dataframe tbody tr th {\n",
              "        vertical-align: top;\n",
              "    }\n",
              "\n",
              "    .dataframe thead th {\n",
              "        text-align: right;\n",
              "    }\n",
              "</style>\n",
              "<table border=\"1\" class=\"dataframe\">\n",
              "  <thead>\n",
              "    <tr style=\"text-align: right;\">\n",
              "      <th></th>\n",
              "      <th>adult</th>\n",
              "      <th>belongs_to_collection</th>\n",
              "      <th>budget</th>\n",
              "      <th>genres</th>\n",
              "      <th>homepage</th>\n",
              "      <th>id</th>\n",
              "      <th>imdb_id</th>\n",
              "      <th>original_language</th>\n",
              "      <th>original_title</th>\n",
              "      <th>overview</th>\n",
              "      <th>popularity</th>\n",
              "      <th>poster_path</th>\n",
              "      <th>production_companies</th>\n",
              "      <th>production_countries</th>\n",
              "      <th>release_date</th>\n",
              "      <th>revenue</th>\n",
              "      <th>runtime</th>\n",
              "      <th>spoken_languages</th>\n",
              "      <th>status</th>\n",
              "      <th>tagline</th>\n",
              "      <th>title</th>\n",
              "      <th>video</th>\n",
              "      <th>vote_average</th>\n",
              "      <th>vote_count</th>\n",
              "    </tr>\n",
              "  </thead>\n",
              "  <tbody>\n",
              "    <tr>\n",
              "      <th>45461</th>\n",
              "      <td>FALSE</td>\n",
              "      <td>NaN</td>\n",
              "      <td>0</td>\n",
              "      <td>[{'id': 18, 'name': 'Drama'}, {'id': 10751, 'n...</td>\n",
              "      <td>http://www.imdb.com/title/tt6209470/</td>\n",
              "      <td>439050</td>\n",
              "      <td>tt6209470</td>\n",
              "      <td>fa</td>\n",
              "      <td>رگ خواب</td>\n",
              "      <td>Rising and falling between a man and woman.</td>\n",
              "      <td>0.072051</td>\n",
              "      <td>/jldsYflnId4tTWPx8es3uzsB1I8.jpg</td>\n",
              "      <td>[]</td>\n",
              "      <td>[{'iso_3166_1': 'IR', 'name': 'Iran'}]</td>\n",
              "      <td>NaN</td>\n",
              "      <td>0.0</td>\n",
              "      <td>90.0</td>\n",
              "      <td>[{'iso_639_1': 'fa', 'name': 'فارسی'}]</td>\n",
              "      <td>Released</td>\n",
              "      <td>Rising and falling between a man and woman</td>\n",
              "      <td>Subdue</td>\n",
              "      <td>False</td>\n",
              "      <td>4.0</td>\n",
              "      <td>1.0</td>\n",
              "    </tr>\n",
              "    <tr>\n",
              "      <th>45462</th>\n",
              "      <td>FALSE</td>\n",
              "      <td>NaN</td>\n",
              "      <td>0</td>\n",
              "      <td>[{'id': 18, 'name': 'Drama'}]</td>\n",
              "      <td>NaN</td>\n",
              "      <td>111109</td>\n",
              "      <td>tt2028550</td>\n",
              "      <td>tl</td>\n",
              "      <td>Siglo ng Pagluluwal</td>\n",
              "      <td>An artist struggles to finish his work while a...</td>\n",
              "      <td>0.178241</td>\n",
              "      <td>/xZkmxsNmYXJbKVsTRLLx3pqGHx7.jpg</td>\n",
              "      <td>[{'name': 'Sine Olivia', 'id': 19653}]</td>\n",
              "      <td>[{'iso_3166_1': 'PH', 'name': 'Philippines'}]</td>\n",
              "      <td>11/17/2011</td>\n",
              "      <td>0.0</td>\n",
              "      <td>360.0</td>\n",
              "      <td>[{'iso_639_1': 'tl', 'name': ''}]</td>\n",
              "      <td>Released</td>\n",
              "      <td>NaN</td>\n",
              "      <td>Century of Birthing</td>\n",
              "      <td>False</td>\n",
              "      <td>9.0</td>\n",
              "      <td>3.0</td>\n",
              "    </tr>\n",
              "    <tr>\n",
              "      <th>45463</th>\n",
              "      <td>FALSE</td>\n",
              "      <td>NaN</td>\n",
              "      <td>0</td>\n",
              "      <td>[{'id': 28, 'name': 'Action'}, {'id': 18, 'nam...</td>\n",
              "      <td>NaN</td>\n",
              "      <td>67758</td>\n",
              "      <td>tt0303758</td>\n",
              "      <td>en</td>\n",
              "      <td>Betrayal</td>\n",
              "      <td>When one of her hits goes wrong, a professiona...</td>\n",
              "      <td>0.903007</td>\n",
              "      <td>/d5bX92nDsISNhu3ZT69uHwmfCGw.jpg</td>\n",
              "      <td>[{'name': 'American World Pictures', 'id': 6165}]</td>\n",
              "      <td>[{'iso_3166_1': 'US', 'name': 'United States o...</td>\n",
              "      <td>8/1/2003</td>\n",
              "      <td>0.0</td>\n",
              "      <td>90.0</td>\n",
              "      <td>[{'iso_639_1': 'en', 'name': 'English'}]</td>\n",
              "      <td>Released</td>\n",
              "      <td>A deadly game of wits.</td>\n",
              "      <td>Betrayal</td>\n",
              "      <td>False</td>\n",
              "      <td>3.8</td>\n",
              "      <td>6.0</td>\n",
              "    </tr>\n",
              "    <tr>\n",
              "      <th>45464</th>\n",
              "      <td>FALSE</td>\n",
              "      <td>NaN</td>\n",
              "      <td>0</td>\n",
              "      <td>[]</td>\n",
              "      <td>NaN</td>\n",
              "      <td>227506</td>\n",
              "      <td>tt0008536</td>\n",
              "      <td>en</td>\n",
              "      <td>Satana likuyushchiy</td>\n",
              "      <td>In a small town live two brothers, one a minis...</td>\n",
              "      <td>0.003503</td>\n",
              "      <td>/aorBPO7ak8e8iJKT5OcqYxU3jlK.jpg</td>\n",
              "      <td>[{'name': 'Yermoliev', 'id': 88753}]</td>\n",
              "      <td>[{'iso_3166_1': 'RU', 'name': 'Russia'}]</td>\n",
              "      <td>10/21/1917</td>\n",
              "      <td>0.0</td>\n",
              "      <td>87.0</td>\n",
              "      <td>[]</td>\n",
              "      <td>Released</td>\n",
              "      <td>NaN</td>\n",
              "      <td>Satan Triumphant</td>\n",
              "      <td>False</td>\n",
              "      <td>0.0</td>\n",
              "      <td>0.0</td>\n",
              "    </tr>\n",
              "    <tr>\n",
              "      <th>45465</th>\n",
              "      <td>FALSE</td>\n",
              "      <td>NaN</td>\n",
              "      <td>0</td>\n",
              "      <td>[]</td>\n",
              "      <td>NaN</td>\n",
              "      <td>461257</td>\n",
              "      <td>tt6980792</td>\n",
              "      <td>en</td>\n",
              "      <td>Queerama</td>\n",
              "      <td>50 years after decriminalisation of homosexual...</td>\n",
              "      <td>0.163015</td>\n",
              "      <td>/s5UkZt6NTsrS7ZF0Rh8nzupRlIU.jpg</td>\n",
              "      <td>[]</td>\n",
              "      <td>[{'iso_3166_1': 'GB', 'name': 'United Kingdom'}]</td>\n",
              "      <td>6/9/2017</td>\n",
              "      <td>0.0</td>\n",
              "      <td>75.0</td>\n",
              "      <td>[{'iso_639_1': 'en', 'name': 'English'}]</td>\n",
              "      <td>Released</td>\n",
              "      <td>NaN</td>\n",
              "      <td>Queerama</td>\n",
              "      <td>False</td>\n",
              "      <td>0.0</td>\n",
              "      <td>0.0</td>\n",
              "    </tr>\n",
              "  </tbody>\n",
              "</table>\n",
              "</div>"
            ],
            "text/plain": [
              "       adult belongs_to_collection budget  ...  video vote_average vote_count\n",
              "45461  FALSE                   NaN      0  ...  False          4.0        1.0\n",
              "45462  FALSE                   NaN      0  ...  False          9.0        3.0\n",
              "45463  FALSE                   NaN      0  ...  False          3.8        6.0\n",
              "45464  FALSE                   NaN      0  ...  False          0.0        0.0\n",
              "45465  FALSE                   NaN      0  ...  False          0.0        0.0\n",
              "\n",
              "[5 rows x 24 columns]"
            ]
          },
          "metadata": {
            "tags": []
          },
          "execution_count": 17
        }
      ]
    },
    {
      "cell_type": "code",
      "metadata": {
        "colab": {
          "base_uri": "https://localhost:8080/"
        },
        "id": "s9vIkVupAlLc",
        "outputId": "9223f119-2583-4477-fa23-bc72dc192016"
      },
      "source": [
        "\n",
        "df.info()"
      ],
      "execution_count": null,
      "outputs": [
        {
          "output_type": "stream",
          "text": [
            "<class 'pandas.core.frame.DataFrame'>\n",
            "RangeIndex: 45466 entries, 0 to 45465\n",
            "Data columns (total 24 columns):\n",
            " #   Column                 Non-Null Count  Dtype  \n",
            "---  ------                 --------------  -----  \n",
            " 0   adult                  45466 non-null  object \n",
            " 1   belongs_to_collection  4494 non-null   object \n",
            " 2   budget                 45466 non-null  object \n",
            " 3   genres                 45466 non-null  object \n",
            " 4   homepage               7782 non-null   object \n",
            " 5   id                     45466 non-null  object \n",
            " 6   imdb_id                45449 non-null  object \n",
            " 7   original_language      45455 non-null  object \n",
            " 8   original_title         45466 non-null  object \n",
            " 9   overview               44512 non-null  object \n",
            " 10  popularity             45461 non-null  object \n",
            " 11  poster_path            45080 non-null  object \n",
            " 12  production_companies   45463 non-null  object \n",
            " 13  production_countries   45463 non-null  object \n",
            " 14  release_date           45379 non-null  object \n",
            " 15  revenue                45460 non-null  float64\n",
            " 16  runtime                45203 non-null  float64\n",
            " 17  spoken_languages       45460 non-null  object \n",
            " 18  status                 45379 non-null  object \n",
            " 19  tagline                20412 non-null  object \n",
            " 20  title                  45460 non-null  object \n",
            " 21  video                  45460 non-null  object \n",
            " 22  vote_average           45460 non-null  float64\n",
            " 23  vote_count             45460 non-null  float64\n",
            "dtypes: float64(4), object(20)\n",
            "memory usage: 8.3+ MB\n"
          ],
          "name": "stdout"
        }
      ]
    },
    {
      "cell_type": "code",
      "metadata": {
        "colab": {
          "base_uri": "https://localhost:8080/"
        },
        "id": "VTmAPZZnAn0K",
        "outputId": "19da5a14-5e41-4db7-c577-a7b65fc23559"
      },
      "source": [
        "df.shape"
      ],
      "execution_count": null,
      "outputs": [
        {
          "output_type": "execute_result",
          "data": {
            "text/plain": [
              "(45466, 24)"
            ]
          },
          "metadata": {
            "tags": []
          },
          "execution_count": 19
        }
      ]
    },
    {
      "cell_type": "code",
      "metadata": {
        "colab": {
          "base_uri": "https://localhost:8080/",
          "height": 284
        },
        "id": "bQvj1HZ_Aqb2",
        "outputId": "27751698-a025-4e24-f521-36e4d7f1e21f"
      },
      "source": [
        "df.describe()"
      ],
      "execution_count": null,
      "outputs": [
        {
          "output_type": "execute_result",
          "data": {
            "text/html": [
              "<div>\n",
              "<style scoped>\n",
              "    .dataframe tbody tr th:only-of-type {\n",
              "        vertical-align: middle;\n",
              "    }\n",
              "\n",
              "    .dataframe tbody tr th {\n",
              "        vertical-align: top;\n",
              "    }\n",
              "\n",
              "    .dataframe thead th {\n",
              "        text-align: right;\n",
              "    }\n",
              "</style>\n",
              "<table border=\"1\" class=\"dataframe\">\n",
              "  <thead>\n",
              "    <tr style=\"text-align: right;\">\n",
              "      <th></th>\n",
              "      <th>revenue</th>\n",
              "      <th>runtime</th>\n",
              "      <th>vote_average</th>\n",
              "      <th>vote_count</th>\n",
              "    </tr>\n",
              "  </thead>\n",
              "  <tbody>\n",
              "    <tr>\n",
              "      <th>count</th>\n",
              "      <td>4.546000e+04</td>\n",
              "      <td>45203.000000</td>\n",
              "      <td>45460.000000</td>\n",
              "      <td>45460.000000</td>\n",
              "    </tr>\n",
              "    <tr>\n",
              "      <th>mean</th>\n",
              "      <td>1.120935e+07</td>\n",
              "      <td>94.128199</td>\n",
              "      <td>5.618207</td>\n",
              "      <td>109.897338</td>\n",
              "    </tr>\n",
              "    <tr>\n",
              "      <th>std</th>\n",
              "      <td>6.433225e+07</td>\n",
              "      <td>38.407810</td>\n",
              "      <td>1.924216</td>\n",
              "      <td>491.310374</td>\n",
              "    </tr>\n",
              "    <tr>\n",
              "      <th>min</th>\n",
              "      <td>0.000000e+00</td>\n",
              "      <td>0.000000</td>\n",
              "      <td>0.000000</td>\n",
              "      <td>0.000000</td>\n",
              "    </tr>\n",
              "    <tr>\n",
              "      <th>25%</th>\n",
              "      <td>0.000000e+00</td>\n",
              "      <td>85.000000</td>\n",
              "      <td>5.000000</td>\n",
              "      <td>3.000000</td>\n",
              "    </tr>\n",
              "    <tr>\n",
              "      <th>50%</th>\n",
              "      <td>0.000000e+00</td>\n",
              "      <td>95.000000</td>\n",
              "      <td>6.000000</td>\n",
              "      <td>10.000000</td>\n",
              "    </tr>\n",
              "    <tr>\n",
              "      <th>75%</th>\n",
              "      <td>0.000000e+00</td>\n",
              "      <td>107.000000</td>\n",
              "      <td>6.800000</td>\n",
              "      <td>34.000000</td>\n",
              "    </tr>\n",
              "    <tr>\n",
              "      <th>max</th>\n",
              "      <td>2.787965e+09</td>\n",
              "      <td>1256.000000</td>\n",
              "      <td>10.000000</td>\n",
              "      <td>14075.000000</td>\n",
              "    </tr>\n",
              "  </tbody>\n",
              "</table>\n",
              "</div>"
            ],
            "text/plain": [
              "            revenue       runtime  vote_average    vote_count\n",
              "count  4.546000e+04  45203.000000  45460.000000  45460.000000\n",
              "mean   1.120935e+07     94.128199      5.618207    109.897338\n",
              "std    6.433225e+07     38.407810      1.924216    491.310374\n",
              "min    0.000000e+00      0.000000      0.000000      0.000000\n",
              "25%    0.000000e+00     85.000000      5.000000      3.000000\n",
              "50%    0.000000e+00     95.000000      6.000000     10.000000\n",
              "75%    0.000000e+00    107.000000      6.800000     34.000000\n",
              "max    2.787965e+09   1256.000000     10.000000  14075.000000"
            ]
          },
          "metadata": {
            "tags": []
          },
          "execution_count": 20
        }
      ]
    },
    {
      "cell_type": "code",
      "metadata": {
        "colab": {
          "base_uri": "https://localhost:8080/",
          "height": 282
        },
        "id": "WSK1IqVqAtH-",
        "outputId": "538a4141-59e1-43d4-b2d4-3c56105dcc4a"
      },
      "source": [
        "df[\"vote_average\"].hist(bins=20)"
      ],
      "execution_count": null,
      "outputs": [
        {
          "output_type": "execute_result",
          "data": {
            "text/plain": [
              "<matplotlib.axes._subplots.AxesSubplot at 0x7fcea9202da0>"
            ]
          },
          "metadata": {
            "tags": []
          },
          "execution_count": 21
        },
        {
          "output_type": "display_data",
          "data": {
            "image/png": "[encoded data removed]",
            "text/plain": [
              "<Figure size 432x288 with 1 Axes>"
            ]
          },
          "metadata": {
            "tags": [],
            "needs_background": "light"
          }
        }
      ]
    },
    {
      "cell_type": "code",
      "metadata": {
        "colab": {
          "base_uri": "https://localhost:8080/",
          "height": 282
        },
        "id": "FrT84_g6Avj7",
        "outputId": "95b9b1ba-f8d8-4a91-8f3f-edb8cdb98ef9"
      },
      "source": [
        "df[\"vote_count\"].hist(bins=20)"
      ],
      "execution_count": null,
      "outputs": [
        {
          "output_type": "execute_result",
          "data": {
            "text/plain": [
              "<matplotlib.axes._subplots.AxesSubplot at 0x7fcea91c20f0>"
            ]
          },
          "metadata": {
            "tags": []
          },
          "execution_count": 22
        },
        {
          "output_type": "display_data",
          "data": {
            "image/png": "[encoded data removed]",
            "text/plain": [
              "<Figure size 432x288 with 1 Axes>"
            ]
          },
          "metadata": {
            "tags": [],
            "needs_background": "light"
          }
        }
      ]
    },
    {
      "cell_type": "code",
      "metadata": {
        "colab": {
          "base_uri": "https://localhost:8080/",
          "height": 343
        },
        "id": "kH-68LsdAyxb",
        "outputId": "e158abf7-1521-431f-c7f8-998132eb9013"
      },
      "source": [
        "qm[['title','vote_count','vote_average','score']].head(10)"
      ],
      "execution_count": null,
      "outputs": [
        {
          "output_type": "execute_result",
          "data": {
            "text/html": [
              "<div>\n",
              "<style scoped>\n",
              "    .dataframe tbody tr th:only-of-type {\n",
              "        vertical-align: middle;\n",
              "    }\n",
              "\n",
              "    .dataframe tbody tr th {\n",
              "        vertical-align: top;\n",
              "    }\n",
              "\n",
              "    .dataframe thead th {\n",
              "        text-align: right;\n",
              "    }\n",
              "</style>\n",
              "<table border=\"1\" class=\"dataframe\">\n",
              "  <thead>\n",
              "    <tr style=\"text-align: right;\">\n",
              "      <th></th>\n",
              "      <th>title</th>\n",
              "      <th>vote_count</th>\n",
              "      <th>vote_average</th>\n",
              "      <th>score</th>\n",
              "    </tr>\n",
              "  </thead>\n",
              "  <tbody>\n",
              "    <tr>\n",
              "      <th>12481</th>\n",
              "      <td>The Dark Knight</td>\n",
              "      <td>12269.0</td>\n",
              "      <td>8.3</td>\n",
              "      <td>8.265477</td>\n",
              "    </tr>\n",
              "    <tr>\n",
              "      <th>522</th>\n",
              "      <td>Schindler's List</td>\n",
              "      <td>4436.0</td>\n",
              "      <td>8.3</td>\n",
              "      <td>8.206639</td>\n",
              "    </tr>\n",
              "    <tr>\n",
              "      <th>22879</th>\n",
              "      <td>Interstellar</td>\n",
              "      <td>11187.0</td>\n",
              "      <td>8.1</td>\n",
              "      <td>8.065005</td>\n",
              "    </tr>\n",
              "    <tr>\n",
              "      <th>7000</th>\n",
              "      <td>The Lord of the Rings: The Return of the King</td>\n",
              "      <td>8226.0</td>\n",
              "      <td>8.1</td>\n",
              "      <td>8.052649</td>\n",
              "    </tr>\n",
              "    <tr>\n",
              "      <th>4863</th>\n",
              "      <td>The Lord of the Rings: The Fellowship of the Ring</td>\n",
              "      <td>8892.0</td>\n",
              "      <td>8.0</td>\n",
              "      <td>7.957900</td>\n",
              "    </tr>\n",
              "    <tr>\n",
              "      <th>5814</th>\n",
              "      <td>The Lord of the Rings: The Two Towers</td>\n",
              "      <td>7641.0</td>\n",
              "      <td>8.0</td>\n",
              "      <td>7.951149</td>\n",
              "    </tr>\n",
              "    <tr>\n",
              "      <th>22131</th>\n",
              "      <td>The Wolf of Wall Street</td>\n",
              "      <td>6768.0</td>\n",
              "      <td>7.9</td>\n",
              "      <td>7.847303</td>\n",
              "    </tr>\n",
              "    <tr>\n",
              "      <th>13605</th>\n",
              "      <td>Inglourious Basterds</td>\n",
              "      <td>6598.0</td>\n",
              "      <td>7.9</td>\n",
              "      <td>7.845977</td>\n",
              "    </tr>\n",
              "    <tr>\n",
              "      <th>20051</th>\n",
              "      <td>Django Unchained</td>\n",
              "      <td>10297.0</td>\n",
              "      <td>7.8</td>\n",
              "      <td>7.766617</td>\n",
              "    </tr>\n",
              "    <tr>\n",
              "      <th>18252</th>\n",
              "      <td>The Dark Knight Rises</td>\n",
              "      <td>9263.0</td>\n",
              "      <td>7.6</td>\n",
              "      <td>7.566350</td>\n",
              "    </tr>\n",
              "  </tbody>\n",
              "</table>\n",
              "</div>"
            ],
            "text/plain": [
              "                                                   title  ...     score\n",
              "12481                                    The Dark Knight  ...  8.265477\n",
              "522                                     Schindler's List  ...  8.206639\n",
              "22879                                       Interstellar  ...  8.065005\n",
              "7000       The Lord of the Rings: The Return of the King  ...  8.052649\n",
              "4863   The Lord of the Rings: The Fellowship of the Ring  ...  7.957900\n",
              "5814               The Lord of the Rings: The Two Towers  ...  7.951149\n",
              "22131                            The Wolf of Wall Street  ...  7.847303\n",
              "13605                               Inglourious Basterds  ...  7.845977\n",
              "20051                                   Django Unchained  ...  7.766617\n",
              "18252                              The Dark Knight Rises  ...  7.566350\n",
              "\n",
              "[10 rows x 4 columns]"
            ]
          },
          "metadata": {
            "tags": []
          },
          "execution_count": 23
        }
      ]
    },
    {
      "cell_type": "code",
      "metadata": {
        "colab": {
          "base_uri": "https://localhost:8080/",
          "height": 421
        },
        "id": "p_ePYbRCA5cz",
        "outputId": "5aca5488-b7b5-4af4-9645-06769896602f"
      },
      "source": [
        "d=df.sort_values('vote_count',ascending=False)\n",
        "plt.figure(figsize=(18,6))\n",
        "plt.barh(d['title'].head(15),d['vote_count'].head(15),align='center',color='cornflowerblue')\n",
        "plt.gca().invert_yaxis()\n",
        "plt.xlabel(\"Votes\")\n",
        "plt.title(\"MOst voted Movies\")"
      ],
      "execution_count": null,
      "outputs": [
        {
          "output_type": "execute_result",
          "data": {
            "text/plain": [
              "Text(0.5, 1.0, 'MOst voted Movies')"
            ]
          },
          "metadata": {
            "tags": []
          },
          "execution_count": 24
        },
        {
          "output_type": "display_data",
          "data": {
            "image/png": "[encoded data removed]",
            "text/plain": [
              "<Figure size 1296x432 with 1 Axes>"
            ]
          },
          "metadata": {
            "tags": [],
            "needs_background": "light"
          }
        }
      ]
    },
    {
      "cell_type": "code",
      "metadata": {
        "id": "y_UadrlgA8XX"
      },
      "source": [
        "m = df['vote_count'].quantile(0.80)"
      ],
      "execution_count": 28,
      "outputs": []
    },
    {
      "cell_type": "code",
      "metadata": {
        "id": "zSYqGAH4BEmi",
        "colab": {
          "base_uri": "https://localhost:8080/"
        },
        "outputId": "b6aff034-8cb7-4d77-ec35-ccc819f703af"
      },
      "source": [
        "m"
      ],
      "execution_count": 29,
      "outputs": [
        {
          "output_type": "execute_result",
          "data": {
            "text/plain": [
              "50.0"
            ]
          },
          "metadata": {
            "tags": []
          },
          "execution_count": 29
        }
      ]
    },
    {
      "cell_type": "code",
      "metadata": {
        "id": "U9PXKOvlBPfr",
        "colab": {
          "base_uri": "https://localhost:8080/"
        },
        "outputId": "258d6864-9553-4c0a-83a4-8c387e1e4d33"
      },
      "source": [
        "q_movies = df[(df['runtime'] >= 45) & (df['runtime'] <= 300)]\n",
        "\n",
        "q_movies = q_movies[q_movies['vote_count'] >= m]\n",
        "\n",
        "q_movies.shape"
      ],
      "execution_count": 30,
      "outputs": [
        {
          "output_type": "execute_result",
          "data": {
            "text/plain": [
              "(8963, 24)"
            ]
          },
          "metadata": {
            "tags": []
          },
          "execution_count": 30
        }
      ]
    },
    {
      "cell_type": "code",
      "metadata": {
        "colab": {
          "base_uri": "https://localhost:8080/"
        },
        "id": "xaPMr8VpGnMX",
        "outputId": "8160bc43-fb42-4991-c8b1-6f56e7626a9a"
      },
      "source": [
        "C = df['vote_average'].mean()\n",
        "C"
      ],
      "execution_count": 31,
      "outputs": [
        {
          "output_type": "execute_result",
          "data": {
            "text/plain": [
              "5.618207215133889"
            ]
          },
          "metadata": {
            "tags": []
          },
          "execution_count": 31
        }
      ]
    },
    {
      "cell_type": "code",
      "metadata": {
        "id": "2o8zyO7JGr-m"
      },
      "source": [
        "def weighted_rating(x, m=m, C=C):\n",
        "    v = x['vote_count']\n",
        "    R = x['vote_average']\n",
        "    # Compute the weighted score\n",
        "    return (v/(v+m) * R) + (m/(m+v) * C)"
      ],
      "execution_count": 32,
      "outputs": []
    },
    {
      "cell_type": "code",
      "metadata": {
        "id": "nNI5pv1XGvi5"
      },
      "source": [
        "q_movies['score'] = q_movies.apply(weighted_rating, axis=1)"
      ],
      "execution_count": 33,
      "outputs": []
    },
    {
      "cell_type": "code",
      "metadata": {
        "colab": {
          "base_uri": "https://localhost:8080/",
          "height": 787
        },
        "id": "xRxp9BNdGxcm",
        "outputId": "a49fbbeb-2e78-4899-fc6a-7655fa8d6bfd"
      },
      "source": [
        "q_movies = q_movies.sort_values('score', ascending=False)\n",
        "\n",
        "\n",
        "q_movies[['title', 'vote_count', 'vote_average', 'score', 'runtime']].head(25)"
      ],
      "execution_count": 34,
      "outputs": [
        {
          "output_type": "execute_result",
          "data": {
            "text/html": [
              "<div>\n",
              "<style scoped>\n",
              "    .dataframe tbody tr th:only-of-type {\n",
              "        vertical-align: middle;\n",
              "    }\n",
              "\n",
              "    .dataframe tbody tr th {\n",
              "        vertical-align: top;\n",
              "    }\n",
              "\n",
              "    .dataframe thead th {\n",
              "        text-align: right;\n",
              "    }\n",
              "</style>\n",
              "<table border=\"1\" class=\"dataframe\">\n",
              "  <thead>\n",
              "    <tr style=\"text-align: right;\">\n",
              "      <th></th>\n",
              "      <th>title</th>\n",
              "      <th>vote_count</th>\n",
              "      <th>vote_average</th>\n",
              "      <th>score</th>\n",
              "      <th>runtime</th>\n",
              "    </tr>\n",
              "  </thead>\n",
              "  <tbody>\n",
              "    <tr>\n",
              "      <th>10309</th>\n",
              "      <td>Dilwale Dulhania Le Jayenge</td>\n",
              "      <td>661.0</td>\n",
              "      <td>9.1</td>\n",
              "      <td>8.855148</td>\n",
              "      <td>190.0</td>\n",
              "    </tr>\n",
              "    <tr>\n",
              "      <th>314</th>\n",
              "      <td>The Shawshank Redemption</td>\n",
              "      <td>8358.0</td>\n",
              "      <td>8.5</td>\n",
              "      <td>8.482863</td>\n",
              "      <td>142.0</td>\n",
              "    </tr>\n",
              "    <tr>\n",
              "      <th>834</th>\n",
              "      <td>The Godfather</td>\n",
              "      <td>6024.0</td>\n",
              "      <td>8.5</td>\n",
              "      <td>8.476278</td>\n",
              "      <td>175.0</td>\n",
              "    </tr>\n",
              "    <tr>\n",
              "      <th>40251</th>\n",
              "      <td>Your Name.</td>\n",
              "      <td>1030.0</td>\n",
              "      <td>8.5</td>\n",
              "      <td>8.366584</td>\n",
              "      <td>106.0</td>\n",
              "    </tr>\n",
              "    <tr>\n",
              "      <th>12481</th>\n",
              "      <td>The Dark Knight</td>\n",
              "      <td>12269.0</td>\n",
              "      <td>8.3</td>\n",
              "      <td>8.289115</td>\n",
              "      <td>152.0</td>\n",
              "    </tr>\n",
              "    <tr>\n",
              "      <th>2843</th>\n",
              "      <td>Fight Club</td>\n",
              "      <td>9678.0</td>\n",
              "      <td>8.3</td>\n",
              "      <td>8.286216</td>\n",
              "      <td>139.0</td>\n",
              "    </tr>\n",
              "    <tr>\n",
              "      <th>292</th>\n",
              "      <td>Pulp Fiction</td>\n",
              "      <td>8670.0</td>\n",
              "      <td>8.3</td>\n",
              "      <td>8.284623</td>\n",
              "      <td>154.0</td>\n",
              "    </tr>\n",
              "    <tr>\n",
              "      <th>522</th>\n",
              "      <td>Schindler's List</td>\n",
              "      <td>4436.0</td>\n",
              "      <td>8.3</td>\n",
              "      <td>8.270109</td>\n",
              "      <td>195.0</td>\n",
              "    </tr>\n",
              "    <tr>\n",
              "      <th>23673</th>\n",
              "      <td>Whiplash</td>\n",
              "      <td>4376.0</td>\n",
              "      <td>8.3</td>\n",
              "      <td>8.269704</td>\n",
              "      <td>105.0</td>\n",
              "    </tr>\n",
              "    <tr>\n",
              "      <th>5481</th>\n",
              "      <td>Spirited Away</td>\n",
              "      <td>3968.0</td>\n",
              "      <td>8.3</td>\n",
              "      <td>8.266628</td>\n",
              "      <td>125.0</td>\n",
              "    </tr>\n",
              "    <tr>\n",
              "      <th>2211</th>\n",
              "      <td>Life Is Beautiful</td>\n",
              "      <td>3643.0</td>\n",
              "      <td>8.3</td>\n",
              "      <td>8.263691</td>\n",
              "      <td>116.0</td>\n",
              "    </tr>\n",
              "    <tr>\n",
              "      <th>1178</th>\n",
              "      <td>The Godfather: Part II</td>\n",
              "      <td>3418.0</td>\n",
              "      <td>8.3</td>\n",
              "      <td>8.261335</td>\n",
              "      <td>200.0</td>\n",
              "    </tr>\n",
              "    <tr>\n",
              "      <th>1152</th>\n",
              "      <td>One Flew Over the Cuckoo's Nest</td>\n",
              "      <td>3001.0</td>\n",
              "      <td>8.3</td>\n",
              "      <td>8.256051</td>\n",
              "      <td>133.0</td>\n",
              "    </tr>\n",
              "    <tr>\n",
              "      <th>1176</th>\n",
              "      <td>Psycho</td>\n",
              "      <td>2405.0</td>\n",
              "      <td>8.3</td>\n",
              "      <td>8.245381</td>\n",
              "      <td>109.0</td>\n",
              "    </tr>\n",
              "    <tr>\n",
              "      <th>351</th>\n",
              "      <td>Forrest Gump</td>\n",
              "      <td>8147.0</td>\n",
              "      <td>8.2</td>\n",
              "      <td>8.184252</td>\n",
              "      <td>142.0</td>\n",
              "    </tr>\n",
              "    <tr>\n",
              "      <th>1184</th>\n",
              "      <td>Once Upon a Time in America</td>\n",
              "      <td>1104.0</td>\n",
              "      <td>8.3</td>\n",
              "      <td>8.183804</td>\n",
              "      <td>229.0</td>\n",
              "    </tr>\n",
              "    <tr>\n",
              "      <th>1154</th>\n",
              "      <td>The Empire Strikes Back</td>\n",
              "      <td>5998.0</td>\n",
              "      <td>8.2</td>\n",
              "      <td>8.178656</td>\n",
              "      <td>124.0</td>\n",
              "    </tr>\n",
              "    <tr>\n",
              "      <th>18465</th>\n",
              "      <td>The Intouchables</td>\n",
              "      <td>5410.0</td>\n",
              "      <td>8.2</td>\n",
              "      <td>8.176357</td>\n",
              "      <td>112.0</td>\n",
              "    </tr>\n",
              "    <tr>\n",
              "      <th>289</th>\n",
              "      <td>Leon: The Professional</td>\n",
              "      <td>4293.0</td>\n",
              "      <td>8.2</td>\n",
              "      <td>8.170276</td>\n",
              "      <td>110.0</td>\n",
              "    </tr>\n",
              "    <tr>\n",
              "      <th>3030</th>\n",
              "      <td>The Green Mile</td>\n",
              "      <td>4166.0</td>\n",
              "      <td>8.2</td>\n",
              "      <td>8.169381</td>\n",
              "      <td>189.0</td>\n",
              "    </tr>\n",
              "    <tr>\n",
              "      <th>1170</th>\n",
              "      <td>GoodFellas</td>\n",
              "      <td>3211.0</td>\n",
              "      <td>8.2</td>\n",
              "      <td>8.160414</td>\n",
              "      <td>145.0</td>\n",
              "    </tr>\n",
              "    <tr>\n",
              "      <th>2216</th>\n",
              "      <td>American History X</td>\n",
              "      <td>3120.0</td>\n",
              "      <td>8.2</td>\n",
              "      <td>8.159278</td>\n",
              "      <td>119.0</td>\n",
              "    </tr>\n",
              "    <tr>\n",
              "      <th>1161</th>\n",
              "      <td>12 Angry Men</td>\n",
              "      <td>2130.0</td>\n",
              "      <td>8.2</td>\n",
              "      <td>8.140785</td>\n",
              "      <td>96.0</td>\n",
              "    </tr>\n",
              "    <tr>\n",
              "      <th>9698</th>\n",
              "      <td>Howl's Moving Castle</td>\n",
              "      <td>2049.0</td>\n",
              "      <td>8.2</td>\n",
              "      <td>8.138499</td>\n",
              "      <td>119.0</td>\n",
              "    </tr>\n",
              "    <tr>\n",
              "      <th>2884</th>\n",
              "      <td>Princess Mononoke</td>\n",
              "      <td>2041.0</td>\n",
              "      <td>8.2</td>\n",
              "      <td>8.138264</td>\n",
              "      <td>134.0</td>\n",
              "    </tr>\n",
              "  </tbody>\n",
              "</table>\n",
              "</div>"
            ],
            "text/plain": [
              "                                 title  vote_count  ...     score  runtime\n",
              "10309      Dilwale Dulhania Le Jayenge       661.0  ...  8.855148    190.0\n",
              "314           The Shawshank Redemption      8358.0  ...  8.482863    142.0\n",
              "834                      The Godfather      6024.0  ...  8.476278    175.0\n",
              "40251                       Your Name.      1030.0  ...  8.366584    106.0\n",
              "12481                  The Dark Knight     12269.0  ...  8.289115    152.0\n",
              "2843                        Fight Club      9678.0  ...  8.286216    139.0\n",
              "292                       Pulp Fiction      8670.0  ...  8.284623    154.0\n",
              "522                   Schindler's List      4436.0  ...  8.270109    195.0\n",
              "23673                         Whiplash      4376.0  ...  8.269704    105.0\n",
              "5481                     Spirited Away      3968.0  ...  8.266628    125.0\n",
              "2211                 Life Is Beautiful      3643.0  ...  8.263691    116.0\n",
              "1178            The Godfather: Part II      3418.0  ...  8.261335    200.0\n",
              "1152   One Flew Over the Cuckoo's Nest      3001.0  ...  8.256051    133.0\n",
              "1176                            Psycho      2405.0  ...  8.245381    109.0\n",
              "351                       Forrest Gump      8147.0  ...  8.184252    142.0\n",
              "1184       Once Upon a Time in America      1104.0  ...  8.183804    229.0\n",
              "1154           The Empire Strikes Back      5998.0  ...  8.178656    124.0\n",
              "18465                 The Intouchables      5410.0  ...  8.176357    112.0\n",
              "289             Leon: The Professional      4293.0  ...  8.170276    110.0\n",
              "3030                    The Green Mile      4166.0  ...  8.169381    189.0\n",
              "1170                        GoodFellas      3211.0  ...  8.160414    145.0\n",
              "2216                American History X      3120.0  ...  8.159278    119.0\n",
              "1161                      12 Angry Men      2130.0  ...  8.140785     96.0\n",
              "9698              Howl's Moving Castle      2049.0  ...  8.138499    119.0\n",
              "2884                 Princess Mononoke      2041.0  ...  8.138264    134.0\n",
              "\n",
              "[25 rows x 5 columns]"
            ]
          },
          "metadata": {
            "tags": []
          },
          "execution_count": 34
        }
      ]
    },
    {
      "cell_type": "code",
      "metadata": {
        "id": "feMRY3tdG1x-"
      },
      "source": [
        ""
      ],
      "execution_count": null,
      "outputs": []
    }
  ]
}