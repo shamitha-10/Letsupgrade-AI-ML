{
 "cells": [
  {
   "cell_type": "markdown",
   "metadata": {},
   "source": [
    "# Question 1"
   ]
  },
  {
   "cell_type": "code",
   "execution_count": 1,
   "metadata": {},
   "outputs": [
    {
     "name": "stdout",
     "output_type": "stream",
     "text": [
      "Enter the email address:rita@google.com\n",
      "google\n"
     ]
    }
   ],
   "source": [
    "n=input(\"Enter the email address:\")\n",
    "print(n.split(\"@\")[1].split(\".\")[0])"
   ]
  },
  {
   "cell_type": "markdown",
   "metadata": {},
   "source": [
    "# Question 2"
   ]
  },
  {
   "cell_type": "code",
   "execution_count": 5,
   "metadata": {},
   "outputs": [
    {
     "name": "stdout",
     "output_type": "stream",
     "text": [
      "Enter the words in csv:chapter,mango,banana,apple\n",
      "apple,banana,chapter,mango,"
     ]
    }
   ],
   "source": [
    "words=input(\"Enter the words in csv:\")\n",
    "lst=sorted(words.split(\",\"))\n",
    "for items in lst:\n",
    "    print(items,end=\",\")\n",
    "\n"
   ]
  },
  {
   "cell_type": "markdown",
   "metadata": {},
   "source": [
    "# Question 3"
   ]
  },
  {
   "cell_type": "markdown",
   "metadata": {},
   "source": [
    "# set\n",
    "set is a collection which is unindexed and unordered.It is represented by using curly brackets.\n"
   ]
  },
  {
   "cell_type": "code",
   "execution_count": 41,
   "metadata": {},
   "outputs": [
    {
     "name": "stdout",
     "output_type": "stream",
     "text": [
      "{24, 'pen', 'mango', 15.6}\n",
      "{'pen', 'apple', 15.6, 24, 'mango'}\n",
      "5\n",
      "True\n",
      "pen\n"
     ]
    }
   ],
   "source": [
    "a={24,\"mango\",\"pen\",15.6}\n",
    "print(a)\n",
    "a.add(\"apple\")\n",
    "print(a)\n",
    "print(len(a))\n",
    "print(\"mango\" in a)\n",
    "print(a.pop())"
   ]
  },
  {
   "cell_type": "markdown",
   "metadata": {},
   "source": [
    "# Question 4"
   ]
  },
  {
   "cell_type": "code",
   "execution_count": 45,
   "metadata": {},
   "outputs": [
    {
     "name": "stdout",
     "output_type": "stream",
     "text": [
      "The missing numbers are: [2, 5, 7]\n"
     ]
    }
   ],
   "source": [
    "lst1=[1,3,4,6,8,9]\n",
    "def numbers(lst1):\n",
    "    return[i for x,y in zip(lst1,lst1[1:])\n",
    "          for i in range(x+1,y)if(y-x>1)]\n",
    "print(\"The missing numbers are:\",numbers(lst1))"
   ]
  },
  {
   "cell_type": "markdown",
   "metadata": {},
   "source": [
    "# Question 5"
   ]
  },
  {
   "cell_type": "code",
   "execution_count": 49,
   "metadata": {},
   "outputs": [
    {
     "name": "stdout",
     "output_type": "stream",
     "text": [
      "enter the numbers:23 56 87 56 34 23 93\n",
      "87 23 56 34 93 "
     ]
    }
   ],
   "source": [
    "n=input(\"enter the numbers:\").split()\n",
    "new_set=set(n)\n",
    "for i in new_set:\n",
    "    print(i,end=\" \")"
   ]
  }
 ],
 "metadata": {
  "kernelspec": {
   "display_name": "Python 3",
   "language": "python",
   "name": "python3"
  },
  "language_info": {
   "codemirror_mode": {
    "name": "ipython",
    "version": 3
   },
   "file_extension": ".py",
   "mimetype": "text/x-python",
   "name": "python",
   "nbconvert_exporter": "python",
   "pygments_lexer": "ipython3",
   "version": "3.7.6"
  }
 },
 "nbformat": 4,
 "nbformat_minor": 4
}
